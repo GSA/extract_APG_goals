{
  "nbformat": 4,
  "nbformat_minor": 0,
  "metadata": {
    "colab": {
      "provenance": []
    },
    "kernelspec": {
      "name": "python3",
      "display_name": "Python 3"
    },
    "language_info": {
      "name": "python"
    }
  },
  "cells": [
    {
      "cell_type": "code",
      "source": [
        "%pip install PyMuPDF\n",
        "%pip install anthropic pdf2image\n",
        "%pip install IPython"
      ],
      "metadata": {
        "id": "FFJnLuynVOWF"
      },
      "execution_count": null,
      "outputs": []
    },
    {
      "cell_type": "code",
      "source": [
        "import base64\n",
        "from anthropic import Anthropic\n",
        "from IPython.display import Image\n",
        "import pdf2image\n",
        "import fitz\n",
        "import io\n",
        "import requests\n",
        "from PIL import Image\n",
        "import base64\n",
        "from google.colab import userdata\n",
        "import os\n",
        "import glob\n",
        "\n",
        "client = Anthropic(api_key=userdata.get('ANTHROPIC_API_KEY'))\n",
        "MODEL_NAME = \"claude-3-opus-20240229\""
      ],
      "metadata": {
        "id": "95fluQtIM8ZI"
      },
      "execution_count": null,
      "outputs": []
    },
    {
      "cell_type": "code",
      "source": [
        "# Make a useful helper function.\n",
        "def get_completion(messages):\n",
        "    response = client.messages.create(\n",
        "        model=MODEL_NAME,\n",
        "        max_tokens=2048,\n",
        "        temperature=0,\n",
        "        messages=messages\n",
        "    )\n",
        "    return response.content[0].text"
      ],
      "metadata": {
        "id": "EkQm19zDQfjm"
      },
      "execution_count": null,
      "outputs": []
    },
    {
      "cell_type": "code",
      "source": [
        "# Define the function to convert a pdf slide deck to a list of images.\n",
        "# Note that we need to ensure we resize images to keep them within Claude's size limits.\n",
        "# Taken from Anthropic Cookbook: https://github.com/anthropics/anthropic-cookbook/blob/main/multimodal/reading_charts_graphs_powerpoints.ipynb\n",
        "\n",
        "def pdf_to_base64_pngs(pdf_path, # URL,\n",
        "                       quality=75, max_size=(1024, 1024)):\n",
        "    # Open the PDF file\n",
        "    doc = fitz.open(pdf_path)\n",
        "\n",
        "    # The two lines below are for PDFs hosted online\n",
        "    #res = requests.get(URL)\n",
        "    #doc = fitz.open(stream = res.content, filetype=\"pdf\")\n",
        "\n",
        "\n",
        "    # Iterate through each page of the PDF\n",
        "    for page_num in range(doc.page_count):\n",
        "        # Load the page\n",
        "        page = doc.load_page(page_num)\n",
        "\n",
        "        # Render the page as a PNG image\n",
        "        pix = page.get_pixmap(matrix=fitz.Matrix(300/72, 300/72))\n",
        "\n",
        "        # Save the PNG image\n",
        "        output_path = f\"./sample_output/page_{page_num+1}.png\"\n",
        "        pix.save(output_path)\n",
        "\n",
        "    # Convert the PNG images to base64 encoded strings\n",
        "    images = [Image.open(f\"./sample_output/page_{page_num+1}.png\") for page_num in range(doc.page_count)]\n",
        "    # Close the PDF document\n",
        "    doc.close()\n",
        "\n",
        "    base64_encoded_pngs = []\n",
        "\n",
        "    for image in images:\n",
        "        # Resize the image if it exceeds the maximum size\n",
        "        if image.size[0] > max_size[0] or image.size[1] > max_size[1]:\n",
        "            image.thumbnail(max_size, Image.Resampling.LANCZOS)\n",
        "        image_data = io.BytesIO()\n",
        "        image.save(image_data, format='PNG', optimize=True, quality=quality)\n",
        "        image_data.seek(0)\n",
        "        base64_encoded = base64.b64encode(image_data.getvalue()).decode('utf-8')\n",
        "        base64_encoded_pngs.append(base64_encoded)\n",
        "\n",
        "    return base64_encoded_pngs\n",
        "\n"
      ],
      "metadata": {
        "id": "wJSEtdbhQ6qg"
      },
      "execution_count": null,
      "outputs": []
    },
    {
      "cell_type": "code",
      "source": [
        "# This is the prompt given to Claude, along with the slides from the APG update.\n",
        "\n",
        "question = \"\"\"Pull the tables from the pages in the attached documents that say 'Tracking the goal', beginning with the row that says 'We will...'\n",
        "\n",
        "Keep the content the same. Do not add information. Do not paraphrase. The column headers for the output are 'Achievement statement', 'Name of Measure', 'Start value', 'As of (Date)', 'Target value', 'Current value', 'As of (Date)', 'Update cycle', and 'Footnotes'. Do not include the column headers in the output.\n",
        "\n",
        "The 'Footnotes' column is the rightmost column of the table. Copy any relevant footnotes that appear on the Goal Target(s) page. A footnote may be relevant to multiple rows, or just one. If there is a superscript number in a cell of the table, referring to a footnote, use the ^ symbol to indicate its location in the original table, instead of the superscript number. If there are no relevant footnotes for that row, leave the cell blank.\n",
        "\n",
        "The Goal tables may appear on different pages; if they appear on different pages, extract all of them.\n",
        "\n",
        "If a column is missing in the document, leave it empty in the output table. Each row needs to have the same columns.\n",
        "\n",
        "If there is a \"By\" column with a date, you can append that to the Achievement Statement. Otherwise, do not edit information.\n",
        "\n",
        "After that, add one column to the left which has the goal number. If the original document has a goal number included already, put that in the output. Otherwise, create a consecutive, unique goal number for each row, e.g. 1, 2, 3.\n",
        "\n",
        "Print the output as a CSV, without any additional text. Ensure there's a new line \\n character after every row, including the final row. The cells should be separated by this symbol: '|'\n",
        "\n",
        "\"\"\"\n"
      ],
      "metadata": {
        "id": "XrbHHuwzZ0PC"
      },
      "execution_count": null,
      "outputs": []
    },
    {
      "cell_type": "code",
      "source": [
        "# Add filename to the output before loading into file containing\n",
        "# the extracted goals\n",
        "\n",
        "def add_column_to_csv(csv_string, new_column_value):\n",
        "    # Split the string into rows\n",
        "    rows = csv_string.split('\\n')\n",
        "\n",
        "    # Process each row\n",
        "    new_rows = []\n",
        "    for row in rows:\n",
        "        # Split the row into columns\n",
        "        columns = row.split('|')\n",
        "\n",
        "        # Add the new value to the beginning of the row\n",
        "        new_row = [new_column_value] + columns\n",
        "\n",
        "        # Join the columns back into a row\n",
        "        new_rows.append('|'.join(new_row))\n",
        "\n",
        "    # Join the rows back into a single string\n",
        "    return '\\n'.join(new_rows)"
      ],
      "metadata": {
        "id": "lAkg_MrRa_qW"
      },
      "execution_count": null,
      "outputs": []
    },
    {
      "cell_type": "code",
      "source": [
        "reports = glob.glob('./FY2024 Q2 reports/*')\n",
        "for report_filepath in reports:\n",
        "    file_path_components = report_filepath.split('/')\n",
        "    file_name_and_extension = file_path_components[-1].rsplit('.', 1)\n",
        "    reportname = file_name_and_extension[0]\n",
        "\n",
        "    # Clear encoded PNGs from previous report that was processed\n",
        "    files = glob.glob('./sample_output/*')\n",
        "    for f in files:\n",
        "      os.remove(f)\n",
        "\n",
        "    print(report_filepath)\n",
        "\n",
        "    encoded_pngs = pdf_to_base64_pngs(pdf_path = report_filepath)\n",
        "\n",
        "    content = [{\"type\": \"image\", \"source\": {\"type\": \"base64\", \"media_type\": \"image/png\", \"data\": encoded_png}} for encoded_png in encoded_pngs[2:10]]\n",
        "\n",
        "    content.append({\"type\": \"text\", \"text\": question})\n",
        "    messages = [\n",
        "        {\n",
        "          \"role\": 'user',\n",
        "          \"content\": content\n",
        "        }\n",
        "    ]\n",
        "\n",
        "    output = get_completion(messages)\n",
        "    print(output)\n",
        "\n",
        "    new_csv_data = add_column_to_csv(output, reportname)\n",
        "\n",
        "    with open(\"./all_goals.txt\", \"a\") as myfile:\n",
        "      myfile.write(new_csv_data)\n"
      ],
      "metadata": {
        "colab": {
          "base_uri": "https://localhost:8080/"
        },
        "id": "imVSuIJXIZoZ",
        "outputId": "a8df2ec2-60d1-4c94-90ed-d15505f5a992"
      },
      "execution_count": null,
      "outputs": [
        {
          "output_type": "stream",
          "name": "stdout",
          "text": [
            "./FY2024 Q2 reports/FY2024_Q2_NSF_Progress_Improve_Representation_in_the_Scientific_Enterprise.pdf\n",
            "Goal Number|Achievement statement|Name of Measure|Start value|As of (Date)|Target value|Current value|As of (Date)|Update cycle|Footnotes\n",
            "1|Increase the proportion of proposals with principal investigators from groups underrepresented in STEM by 10% over the FY 2022 baseline.|Proportion of investigator proposals (%)|37.4%|9/30/22|41.1%|37.5%|9/30/23|Annually|\n",
            "2|Increase the proportion of proposals from emerging research institutions by 10% over the FY 2022 baseline.|Proportion of institution proposals (%)|24.2%|9/30/22|26.6%|25.1%|9/30/23|Annually|^Data pulled from draft APG dashboard on 1/17/2024.|^For this goal, women are defined as those who select \"female\" in demographic data collection. Gender breakdown varies significantly by discipline, but overall, across all of the science and engineering fields that NSF supports, less than 30 percent of proposals come from female investigators, according to NSF's 2021 Merit Review Report (https://www.nsf.gov/nsb/publications/2022/merit_review/FY_2021_Merit_Review_Report.pdf).\n"
          ]
        }
      ]
    }
  ]
}